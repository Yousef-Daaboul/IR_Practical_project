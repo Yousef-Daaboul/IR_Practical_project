{
 "nbformat": 4,
 "nbformat_minor": 0,
 "metadata": {
  "colab": {
   "provenance": []
  },
  "kernelspec": {
   "name": "python3",
   "display_name": "Python 3"
  },
  "language_info": {
   "name": "python"
  }
 },
 "cells": [
  {
   "cell_type": "markdown",
   "source": [
    "# download and uzip glove model"
   ],
   "metadata": {
    "id": "UhxTOOxu10q9"
   }
  },
  {
   "cell_type": "code",
   "source": [
    "# prompt: download glove model from this url : https://huggingface.co/stanfordnlp/glove/resolve/main/glove.42B.300d.zip\n",
    "\n",
    "!wget https://huggingface.co/stanfordnlp/glove/resolve/main/glove.42B.300d.zip\n"
   ],
   "metadata": {
    "colab": {
     "base_uri": "https://localhost:8080/"
    },
    "id": "K1doF5dgsw_f",
    "executionInfo": {
     "status": "ok",
     "timestamp": 1717344509467,
     "user_tz": -180,
     "elapsed": 143333,
     "user": {
      "displayName": "YOSEF ABOGAAFER",
      "userId": "07948846444208513751"
     }
    },
    "outputId": "f4587b93-471c-4bce-aa21-83dde2969689"
   },
   "execution_count": null,
   "outputs": [
    {
     "output_type": "stream",
     "name": "stdout",
     "text": [
      "--2024-06-02 16:05:10--  https://huggingface.co/stanfordnlp/glove/resolve/main/glove.42B.300d.zip\n",
      "Resolving huggingface.co (huggingface.co)... 3.163.189.74, 3.163.189.114, 3.163.189.90, ...\n",
      "Connecting to huggingface.co (huggingface.co)|3.163.189.74|:443... connected.\n",
      "HTTP request sent, awaiting response... 302 Found\n",
      "Location: https://cdn-lfs.huggingface.co/stanfordnlp/glove/357baac33090f645e71e253b3295ee1b767c98a0336e9a1d99c77e9e33b43c4a?response-content-disposition=attachment%3B+filename*%3DUTF-8%27%27glove.42B.300d.zip%3B+filename%3D%22glove.42B.300d.zip%22%3B&response-content-type=application%2Fzip&Expires=1717603510&Policy=eyJTdGF0ZW1lbnQiOlt7IkNvbmRpdGlvbiI6eyJEYXRlTGVzc1RoYW4iOnsiQVdTOkVwb2NoVGltZSI6MTcxNzYwMzUxMH19LCJSZXNvdXJjZSI6Imh0dHBzOi8vY2RuLWxmcy5odWdnaW5nZmFjZS5jby9zdGFuZm9yZG5scC9nbG92ZS8zNTdiYWFjMzMwOTBmNjQ1ZTcxZTI1M2IzMjk1ZWUxYjc2N2M5OGEwMzM2ZTlhMWQ5OWM3N2U5ZTMzYjQzYzRhP3Jlc3BvbnNlLWNvbnRlbnQtZGlzcG9zaXRpb249KiZyZXNwb25zZS1jb250ZW50LXR5cGU9KiJ9XX0_&Signature=fgwaFujjnURJEonSi5GbmSs1Q1os4e1WX9HxEIOpjzXMAz2QqGDt2zkl5NV7-ctj0e42SmlekjZFW1BgAvB6453CpvzLzOhU-7iw0B4U6h9ewjYnJ0NcrY2mblg9UeTuachBc85XU929-ayVc26UblTIkpvQ632gkJV8HWggkK4I-8SfyQT1Q7xZVovlAWq5LhwYvmWKB77mOdRU3spwfTOVtuOwsjF%7EjcCBMa-%7ElpjwDaeVA5PsRM7o8dKIjnpaO1pYuMLvhVA-bXZ%7EbswVid2RQtDMbz6IaqsFSAdZZllOoDZWV8TGplBAcEX79S6f0tO2efQyLqmNUssqCovU0Q__&Key-Pair-Id=KVTP0A1DKRTAX [following]\n",
      "--2024-06-02 16:05:10--  https://cdn-lfs.huggingface.co/stanfordnlp/glove/357baac33090f645e71e253b3295ee1b767c98a0336e9a1d99c77e9e33b43c4a?response-content-disposition=attachment%3B+filename*%3DUTF-8%27%27glove.42B.300d.zip%3B+filename%3D%22glove.42B.300d.zip%22%3B&response-content-type=application%2Fzip&Expires=1717603510&Policy=eyJTdGF0ZW1lbnQiOlt7IkNvbmRpdGlvbiI6eyJEYXRlTGVzc1RoYW4iOnsiQVdTOkVwb2NoVGltZSI6MTcxNzYwMzUxMH19LCJSZXNvdXJjZSI6Imh0dHBzOi8vY2RuLWxmcy5odWdnaW5nZmFjZS5jby9zdGFuZm9yZG5scC9nbG92ZS8zNTdiYWFjMzMwOTBmNjQ1ZTcxZTI1M2IzMjk1ZWUxYjc2N2M5OGEwMzM2ZTlhMWQ5OWM3N2U5ZTMzYjQzYzRhP3Jlc3BvbnNlLWNvbnRlbnQtZGlzcG9zaXRpb249KiZyZXNwb25zZS1jb250ZW50LXR5cGU9KiJ9XX0_&Signature=fgwaFujjnURJEonSi5GbmSs1Q1os4e1WX9HxEIOpjzXMAz2QqGDt2zkl5NV7-ctj0e42SmlekjZFW1BgAvB6453CpvzLzOhU-7iw0B4U6h9ewjYnJ0NcrY2mblg9UeTuachBc85XU929-ayVc26UblTIkpvQ632gkJV8HWggkK4I-8SfyQT1Q7xZVovlAWq5LhwYvmWKB77mOdRU3spwfTOVtuOwsjF%7EjcCBMa-%7ElpjwDaeVA5PsRM7o8dKIjnpaO1pYuMLvhVA-bXZ%7EbswVid2RQtDMbz6IaqsFSAdZZllOoDZWV8TGplBAcEX79S6f0tO2efQyLqmNUssqCovU0Q__&Key-Pair-Id=KVTP0A1DKRTAX\n",
      "Resolving cdn-lfs.huggingface.co (cdn-lfs.huggingface.co)... 108.138.94.14, 108.138.94.25, 108.138.94.23, ...\n",
      "Connecting to cdn-lfs.huggingface.co (cdn-lfs.huggingface.co)|108.138.94.14|:443... connected.\n",
      "HTTP request sent, awaiting response... 200 OK\n",
      "Length: 1877802108 (1.7G) [application/zip]\n",
      "Saving to: ‘glove.42B.300d.zip’\n",
      "\n",
      "glove.42B.300d.zip  100%[===================>]   1.75G  9.54MB/s    in 2m 22s  \n",
      "\n",
      "2024-06-02 16:07:33 (12.6 MB/s) - ‘glove.42B.300d.zip’ saved [1877802108/1877802108]\n",
      "\n"
     ]
    }
   ]
  },
  {
   "cell_type": "code",
   "source": [
    "# prompt: unzip this medel to my drive in folder IR\n",
    "\n",
    "!unzip -j glove.42B.300d.zip -d drive/MyDrive/IR\n"
   ],
   "metadata": {
    "colab": {
     "base_uri": "https://localhost:8080/"
    },
    "id": "Kl-Hbkoltdnb",
    "executionInfo": {
     "status": "ok",
     "timestamp": 1717344806017,
     "user_tz": -180,
     "elapsed": 245096,
     "user": {
      "displayName": "YOSEF ABOGAAFER",
      "userId": "07948846444208513751"
     }
    },
    "outputId": "a12d328a-fbc1-4178-bdd3-c2c2bc1eb1d3"
   },
   "execution_count": null,
   "outputs": [
    {
     "output_type": "stream",
     "name": "stdout",
     "text": [
      "Archive:  glove.42B.300d.zip\n",
      "  inflating: drive/MyDrive/IR/glove.42B.300d.txt  \n"
     ]
    }
   ]
  },
  {
   "cell_type": "markdown",
   "source": [
    "# Load Docs from drive"
   ],
   "metadata": {
    "id": "Tnp3m5ya1vTT"
   }
  },
  {
   "cell_type": "code",
   "source": [
    "# prompt: read docs from my drive\n",
    "\n",
    "import json\n",
    "\n",
    "with open('/content/drive/MyDrive/IR/docs_tokenized.json', 'r') as f:\n",
    "    docs = json.load(f)\n",
    "\n",
    "print(docs[0])"
   ],
   "metadata": {
    "colab": {
     "base_uri": "https://localhost:8080/"
    },
    "id": "Rh2Rnd7hUWm4",
    "executionInfo": {
     "status": "ok",
     "timestamp": 1717371880969,
     "user_tz": -180,
     "elapsed": 33208,
     "user": {
      "displayName": "Yousef Daaboul",
      "userId": "02100590939386773931"
     }
    },
    "outputId": "1cf27952-0510-476f-a9c8-1ad9637f9efb"
   },
   "execution_count": 4,
   "outputs": [
    {
     "output_type": "stream",
     "name": "stdout",
     "text": [
      "{'id': 1, 'doc_id': 'NCT00884858', 'text': ['maraviroc', 'immunological', 'nonresponder', 'inr', 'hiv1infected', 'subjectsuse', 'maraviroc', 'mvc', 'immunological', 'nonresponder', 'hiv1infected', 'patient', 'hiv', 'infection', 'objective', 'evaluate', 'clinical', 'efficacy', 'haart', 'intensification', 'mvc', 'treatment', 'hiv1', 'infection', 'patient', 'cd4', 'count', '≤', '200', 'cellsul', 'andor', 'recovery', 'cd4', 'cell', '25', 'compare', 'haart', 'initiation', 'complete', 'stable', 'virologic', 'suppression', '12', 'month', 'haart', 'patient', 'could', 'also', 'include', 'cd4', 'slope', 'stable', 'without', 'improvement', 'absolute', 'value', 'around', '200', 'cellsul', 'evaluate', 'effect', 'haart', 'intensification', 'mvc', 'modification', 'immunologic', 'virologic', 'parameter', 'evaluate', 'tolerability', 'haart', 'intensification', 'mvc', 'appearance', 'drugrelated', 'side', 'effect', 'design', 'randomise', 'multicenter', 'study', 'evaluate', 'haart', 'intensification', 'mvc', 'treatment', 'hiv1', 'infection', 'patient', 'cd4', 'count', '≤', '200', 'cellsul', 'andor', 'recovery', 'cd4', 'cell', '25', 'compare', 'haart', 'initiation', 'andor', 'stable', 'cd4', 'slope', 'without', 'improvement', 'absolute', 'value', 'around', '200', 'cellsul', 'complete', 'stable', 'virologic', 'suppression', '12', 'month', 'haart', 'suboptimal', 'improvement', 'cluster', 'differentiation', '4', 'cd4', 'cell', 'count', 'uncommon', 'hiv1infected', 'patient', 'suppressed', 'plasma', 'hivribonucleic', 'acid', 'rna', 'level', 'decrease', 'cd4', 'cell', 'count', 'patient', 'suppress', 'low', 'level', 'viremia', 'observe', 'although', 'efficacy', 'current', 'antiretroviral', 'medication', 'well', 'establish', 'antiviral', 'combination', 'effective', 'suppress', 'hiv1', 'load', 'whereas', 'exert', 'effect', 'immune', 'reconstitution', 'tcell', 'immune', 'activation', 'fibrosis', 'peripheral', 'lymphoid', 'tissue', 'could', 'create', 'environment', 'cd4', 'cell', 'count', 'decrease', 'set', 'low', 'suppress', 'plasma', 'viremia', 'likely', 'occur', 'another', 'fascinating', 'hypothesis', 'still', 'elucidate', 'reconstitution', 'deplete', 'cd4', 'pool', 'block', 'excess', 'glycoprotein', '120', 'gp120', 'hiv1', 'protein', 'extraproduction', 'could', 'counteract', 'inhibitor', 'chemokine', 'cc', 'motif', 'receptor', '5', 'ccr5', 'coreceptor', 'represent', 'one', 'major', 'docking', 'tool', 'hiv1', 'mind', 'investigator', 'would', 'like', 'propose', 'design', 'pilot', 'exploratory', 'clinical', 'trial', 'involve', 'population', 'hiv1infected', 'patient', 'rapidly', 'reach', 'virologic', 'suppression', 'without', 'reconstitution', 'immune', 'system', 'inclusion', 'criterion', 'age', '18', 'hivabs', 'positivity', 'detect', 'elisa', 'confirm', 'westernblot', 'cd4', 'lymphocytes', '200ul', 'andor', 'cd4', 'recovery', '25', 'least', '12', 'month', 'stable', 'haart', 'hivrna', '50', 'cpml', 'last', '12', 'month', 'negative', 'pregnancy', 'test', 'least', '14', 'day', 'prior', 'treatment', 'understand', 'signing', 'informed', 'consent', 'exclusion', 'criterion', 'allergyintolerance', 'study', 'drug', 'le', '1', 'year', 'treatment', 'immunomodulatory', 'agent', 'current', 'ois', 'neoplasm', 'current', 'cvd', 'ekg', 'abnormality', 'current', 'respiratory', 'tract', 'diseases', 'copd', 'treatment', 'steroid', 'within', '4', 'week', 'treatment', 'begin', 'suspect', 'autoimmune', 'disorder', 'chronic', 'inflammatory', 'disease', 'active', 'ivdus', 'alcohol', 'addict', 'ast', 'alt', '25', 'uld', 'serum', 'creatinine', '15', 'uld', 'anc', '1000ul', 'hemoglobin', '10', 'gdl', 'platelets', '75000ul', 'reticulocyte', '2', 'karnofsky', 'score', '50', 'hiv1', 'cd4', 'inr', 'hiv1', 'infection', 'extreme', 'immunological', 'compromission', 'treatment', 'experience']}\n"
     ]
    }
   ]
  },
  {
   "cell_type": "markdown",
   "source": [
    "# Load Glove Embeddings from txt file"
   ],
   "metadata": {
    "id": "9WZyndPT1R5Y"
   }
  },
  {
   "cell_type": "code",
   "source": [
    "import numpy as np\n",
    "\n",
    "def load_glove_embeddings(glove_file_path):\n",
    "    emmbed_dict = {}\n",
    "    with open(glove_file_path,'r') as f:\n",
    "      for line in f:\n",
    "        values = line.split()\n",
    "        word = values[0]\n",
    "        vector = np.asarray(values[1:],'float32')\n",
    "        emmbed_dict[word]=vector\n",
    "\n",
    "    return emmbed_dict\n",
    "\n",
    "# Load the GloVe embeddings \n",
    "glove_file_path = '/content/drive/MyDrive/IR/vectors.txt'\n",
    "glove_embeddings = load_glove_embeddings(glove_file_path)\n",
    "\n"
   ],
   "metadata": {
    "id": "-xMtwEhDao6p",
    "executionInfo": {
     "status": "ok",
     "timestamp": 1717371902252,
     "user_tz": -180,
     "elapsed": 14879,
     "user": {
      "displayName": "Yousef Daaboul",
      "userId": "02100590939386773931"
     }
    }
   },
   "execution_count": 5,
   "outputs": []
  },
  {
   "cell_type": "markdown",
   "source": [
    "# save Glove embeddings to drive"
   ],
   "metadata": {
    "id": "289Fj6sM1Xqw"
   }
  },
  {
   "cell_type": "code",
   "source": [
    "# prompt: save glove_embeddings to my drive\n",
    "\n",
    "import pickle\n",
    "\n",
    "with open('/content/drive/MyDrive/IR/my_glove_embeddings.pkl', 'wb') as f:\n",
    "  pickle.dump(glove_embeddings, f)\n"
   ],
   "metadata": {
    "id": "BoKkNcTZ0JUs",
    "executionInfo": {
     "status": "ok",
     "timestamp": 1717371919413,
     "user_tz": -180,
     "elapsed": 2667,
     "user": {
      "displayName": "Yousef Daaboul",
      "userId": "02100590939386773931"
     }
    }
   },
   "execution_count": 6,
   "outputs": []
  },
  {
   "cell_type": "markdown",
   "source": [
    "# Load Glove embeddings from drive"
   ],
   "metadata": {
    "id": "bCzlhU481jRy"
   }
  },
  {
   "cell_type": "code",
   "source": [
    "# prompt: Load Glove embeddings from drive\n",
    "import pickle\n",
    "with open('/content/drive/MyDrive/IR/glove_embeddings.pkl', 'rb') as f:\n",
    "    glove_embeddings = pickle.load(f)\n"
   ],
   "metadata": {
    "id": "bckg-WQd1nCV"
   },
   "execution_count": null,
   "outputs": []
  },
  {
   "cell_type": "markdown",
   "source": [
    "# Document Vectors"
   ],
   "metadata": {
    "id": "Q36UiFElz4BN"
   }
  },
  {
   "cell_type": "code",
   "source": [
    "import numpy as np\n",
    "def document_to_vector(doc, embeddings):\n",
    "    vector = np.zeros(300)  # Assuming 300-dimensional GloVe vectors\n",
    "    count = 0\n",
    "    for word in doc:\n",
    "        if word in embeddings:\n",
    "            vector += embeddings[word]\n",
    "            count += 1\n",
    "    if count > 0:\n",
    "        vector /= count\n",
    "    return vector\n"
   ],
   "metadata": {
    "id": "_ZYOL7rhl-xq",
    "executionInfo": {
     "status": "ok",
     "timestamp": 1717371937304,
     "user_tz": -180,
     "elapsed": 943,
     "user": {
      "displayName": "Yousef Daaboul",
      "userId": "02100590939386773931"
     }
    }
   },
   "execution_count": 7,
   "outputs": []
  },
  {
   "cell_type": "code",
   "source": [
    "document_vectors = [document_to_vector(doc['text'], glove_embeddings) for doc in docs]\n",
    "\n",
    "print(len(document_vectors[0]))\n",
    "print(len(document_vectors))"
   ],
   "metadata": {
    "id": "ugqcoCmDOO6l",
    "colab": {
     "base_uri": "https://localhost:8080/"
    },
    "executionInfo": {
     "status": "ok",
     "timestamp": 1717372135167,
     "user_tz": -180,
     "elapsed": 192732,
     "user": {
      "displayName": "Yousef Daaboul",
      "userId": "02100590939386773931"
     }
    },
    "outputId": "11b0fb15-ea5b-476b-a5b0-c1167281c20b"
   },
   "execution_count": 8,
   "outputs": [
    {
     "output_type": "stream",
     "name": "stdout",
     "text": [
      "300\n",
      "241006\n"
     ]
    }
   ]
  },
  {
   "cell_type": "markdown",
   "source": [
    "# save documrnt vectors to drive"
   ],
   "metadata": {
    "id": "cgDgQtcm2BGV"
   }
  },
  {
   "cell_type": "code",
   "source": [
    "# prompt: save document_vectors to my drive\n",
    "\n",
    "import pickle\n",
    "\n",
    "with open('/content/drive/MyDrive/IR/my_document_vectors.pkl', 'wb') as f:\n",
    "  pickle.dump(document_vectors, f)\n"
   ],
   "metadata": {
    "id": "iv_DUBWO0UIL",
    "executionInfo": {
     "status": "ok",
     "timestamp": 1717372166280,
     "user_tz": -180,
     "elapsed": 9636,
     "user": {
      "displayName": "Yousef Daaboul",
      "userId": "02100590939386773931"
     }
    }
   },
   "execution_count": 9,
   "outputs": []
  },
  {
   "cell_type": "markdown",
   "source": [
    "# Load document vectors from drive"
   ],
   "metadata": {
    "id": "1-X3eTRD2H8t"
   }
  },
  {
   "cell_type": "code",
   "source": [
    "# prompt: # Load document vectors from drive\n",
    "import pickle\n",
    "with open('/content/drive/MyDrive/IR/document_vectors.pkl', 'rb') as f:\n",
    "    document_vectors = pickle.load(f)\n"
   ],
   "metadata": {
    "id": "09LdNrtH2L0r"
   },
   "execution_count": null,
   "outputs": []
  },
  {
   "cell_type": "markdown",
   "source": [
    "# Vector Stor"
   ],
   "metadata": {
    "id": "-Kwjt-CuuMPX"
   }
  },
  {
   "cell_type": "markdown",
   "source": [
    "## install pinecone"
   ],
   "metadata": {
    "id": "Zpj8XXi63OOh"
   }
  },
  {
   "cell_type": "code",
   "source": [
    "!pip install pinecone-client"
   ],
   "metadata": {
    "colab": {
     "base_uri": "https://localhost:8080/"
    },
    "id": "yynwRbuivE9o",
    "executionInfo": {
     "status": "ok",
     "timestamp": 1717372182091,
     "user_tz": -180,
     "elapsed": 12179,
     "user": {
      "displayName": "Yousef Daaboul",
      "userId": "02100590939386773931"
     }
    },
    "outputId": "84994b3c-be47-4fc7-8c7d-366a76c51ccd"
   },
   "execution_count": 10,
   "outputs": [
    {
     "output_type": "stream",
     "name": "stdout",
     "text": [
      "Collecting pinecone-client\n",
      "  Downloading pinecone_client-4.1.0-py3-none-any.whl (215 kB)\n",
      "\u001B[2K     \u001B[90m━━━━━━━━━━━━━━━━━━━━━━━━━━━━━━━━━━━━━━━━\u001B[0m \u001B[32m215.5/215.5 kB\u001B[0m \u001B[31m1.8 MB/s\u001B[0m eta \u001B[36m0:00:00\u001B[0m\n",
      "\u001B[?25hRequirement already satisfied: certifi>=2019.11.17 in /usr/local/lib/python3.10/dist-packages (from pinecone-client) (2024.2.2)\n",
      "Requirement already satisfied: tqdm>=4.64.1 in /usr/local/lib/python3.10/dist-packages (from pinecone-client) (4.66.4)\n",
      "Requirement already satisfied: typing-extensions>=3.7.4 in /usr/local/lib/python3.10/dist-packages (from pinecone-client) (4.11.0)\n",
      "Requirement already satisfied: urllib3>=1.26.0 in /usr/local/lib/python3.10/dist-packages (from pinecone-client) (2.0.7)\n",
      "Installing collected packages: pinecone-client\n",
      "Successfully installed pinecone-client-4.1.0\n"
     ]
    }
   ]
  },
  {
   "cell_type": "markdown",
   "source": [
    "## init index"
   ],
   "metadata": {
    "id": "23Fim5Y-3SGR"
   }
  },
  {
   "cell_type": "code",
   "source": [
    "from pinecone import Pinecone, ServerlessSpec\n",
    "\n",
    "pc = Pinecone(api_key='e07a8850-6879-43dd-8087-c4841a61d2fd')\n",
    "\n",
    "index_name = \"clinicaltrailscustomgloveindex\"\n",
    "\n",
    "if index_name not in pc.list_indexes().names():\n",
    "    pc.create_index(\n",
    "        name=index_name,\n",
    "        dimension=300,\n",
    "        metric=\"cosine\",\n",
    "        spec=ServerlessSpec(\n",
    "            cloud='aws',\n",
    "            region='us-east-1'\n",
    "        )\n",
    "    )\n",
    "\n",
    "index= pc.Index(index_name)"
   ],
   "metadata": {
    "id": "ap0RxmpQuO6E",
    "executionInfo": {
     "status": "ok",
     "timestamp": 1717372246751,
     "user_tz": -180,
     "elapsed": 5984,
     "user": {
      "displayName": "Yousef Daaboul",
      "userId": "02100590939386773931"
     }
    }
   },
   "execution_count": 11,
   "outputs": []
  },
  {
   "cell_type": "markdown",
   "source": [
    "## upsert vectors"
   ],
   "metadata": {
    "id": "3v12ukCH3ZQd"
   }
  },
  {
   "cell_type": "code",
   "source": [
    "batch_size = 1000  # Size of each batch\n",
    "total_docs = len(docs)  # Total number of documents\n",
    "\n",
    "print(total_docs)\n",
    "print(len(document_vectors))\n",
    "\n",
    "batch = []\n",
    "\n",
    "for i, vector in enumerate(document_vectors):\n",
    "    doc = docs[i]\n",
    "    vector = {\n",
    "        \"id\": doc['doc_id'],\n",
    "        \"values\": vector\n",
    "    }\n",
    "    batch.append(vector)\n",
    "\n",
    "    # Check if the batch size is reached or if it's the last document\n",
    "    if (i + 1) % batch_size == 0 or (i + 1) == total_docs:\n",
    "        index.upsert(\n",
    "            vectors=batch,\n",
    "            namespace=\"clinicaltrails\"\n",
    "        )\n",
    "        # Clear the batch for the next set of vectors\n",
    "        batch = []"
   ],
   "metadata": {
    "id": "TDI1GlzJ676B",
    "executionInfo": {
     "status": "ok",
     "timestamp": 1717372781693,
     "user_tz": -180,
     "elapsed": 526726,
     "user": {
      "displayName": "Yousef Daaboul",
      "userId": "02100590939386773931"
     }
    },
    "colab": {
     "base_uri": "https://localhost:8080/"
    },
    "outputId": "1b9e4966-750c-4dec-f03e-6e972dbad2c5"
   },
   "execution_count": 12,
   "outputs": [
    {
     "output_type": "stream",
     "name": "stdout",
     "text": [
      "241006\n",
      "241006\n"
     ]
    }
   ]
  },
  {
   "cell_type": "markdown",
   "source": [
    "# Match Query"
   ],
   "metadata": {
    "id": "6sc_VJGn48YU"
   }
  },
  {
   "cell_type": "code",
   "source": [
    "from nltk.tokenize import word_tokenize\n",
    "import re\n",
    "import nltk\n",
    "nltk.download('punkt')"
   ],
   "metadata": {
    "colab": {
     "base_uri": "https://localhost:8080/"
    },
    "id": "S-RfK7Z37MAB",
    "executionInfo": {
     "status": "ok",
     "timestamp": 1717372790614,
     "user_tz": -180,
     "elapsed": 3112,
     "user": {
      "displayName": "Yousef Daaboul",
      "userId": "02100590939386773931"
     }
    },
    "outputId": "748b4213-bd78-4e91-a7c3-927247289030"
   },
   "execution_count": 13,
   "outputs": [
    {
     "output_type": "stream",
     "name": "stderr",
     "text": [
      "[nltk_data] Downloading package punkt to /root/nltk_data...\n",
      "[nltk_data]   Unzipping tokenizers/punkt.zip.\n"
     ]
    },
    {
     "output_type": "execute_result",
     "data": {
      "text/plain": [
       "True"
      ]
     },
     "metadata": {},
     "execution_count": 13
    }
   ]
  },
  {
   "cell_type": "markdown",
   "source": [
    "## test"
   ],
   "metadata": {
    "id": "5KPsQeOG9EPm"
   }
  },
  {
   "cell_type": "code",
   "source": [
    "def preprocess_text(text):\n",
    "    text = text.lower()\n",
    "    text = re.sub(r'[^\\w\\s]', '', text)\n",
    "    tokens = word_tokenize(text)\n",
    "    return tokens\n",
    "\n",
    "def query_to_vector(query, embeddings):\n",
    "    tokenized_query = preprocess_text(query)\n",
    "    return document_to_vector(tokenized_query, embeddings)\n",
    "\n",
    "query = \"Colon cancer KRAS (G13D), BRAF (V600E) 52-year-old male Type II Diabetes, Hypertension\"\n",
    "query_vector = query_to_vector(query, glove_embeddings).tolist()\n",
    "\n",
    "print(query_vector)\n",
    "# Retrieve similar documents\n",
    "results = index.query(vector=query_vector, top_k=10, namespace='clinicaltrails')\n",
    "\n",
    "print(results)\n"
   ],
   "metadata": {
    "colab": {
     "base_uri": "https://localhost:8080/"
    },
    "id": "xAyOOXSU4-lO",
    "executionInfo": {
     "status": "ok",
     "timestamp": 1717372798307,
     "user_tz": -180,
     "elapsed": 600,
     "user": {
      "displayName": "Yousef Daaboul",
      "userId": "02100590939386773931"
     }
    },
    "outputId": "8f43544f-981e-4869-db71-007fa1107916"
   },
   "execution_count": 14,
   "outputs": [
    {
     "output_type": "stream",
     "name": "stdout",
     "text": [
      "[0.3002750016748905, -0.34122230038046836, -0.12322939708828926, 0.13662079647183417, -0.0988503996282816, 0.24697830276563765, 0.09793980158865452, 0.15614139810204505, -0.22603209540247918, 0.21577749969437718, -0.08951440081000328, -0.15849149972200394, -0.02476399764418602, -0.23854679577052593, 0.5183481007814408, -0.09848949871957302, 0.05720579167827964, -0.05436569601297379, -0.1176874965429306, 0.02751520350575447, -0.18114831000566484, 0.25872999951243403, -0.06391780190169812, 0.26520999558269975, 0.05780010148882866, 0.25267269313335416, 0.2152088983450085, 0.00046909861266613006, 0.33314330540597437, 0.08807260319590568, -0.31440949328243734, -0.08542720228433609, 0.01978940237313509, 0.1798949989490211, -0.27081289812922477, -0.8020217031240463, 0.7641064956784248, 0.2575596019625664, 0.17539719883352517, 0.04800120145082474, -0.03416319862008095, 0.1428021957864985, -0.043582397326827046, -0.15998269990086555, 0.05569129884243011, 0.4292312994599342, -0.20801679734140635, 0.06984270144021139, 0.04532850161194801, 0.12059009848162532, 0.035869098454713824, 0.04438879787921905, 0.020745697617530822, 0.3116611989215016, 0.10182749778032303, -0.0712271025404334, -0.3415479030460119, 0.063866600766778, -0.12328639701008796, -0.023297205567359924, -0.2559199959039688, 0.16315560676157476, 0.07458029463887214, -1.1532176904380322, 0.022163699567317962, -0.07286560703068971, -0.34214660078287124, 0.04039050005376339, 0.3722055975347757, 0.057128703221678734, 0.045350400474853815, -0.12527960129082202, 0.11890930607914925, -0.01948770401068032, 0.02483830009587109, 0.1851171012967825, 0.01450799945741892, -0.17935309335589408, -0.047878300026059153, 0.4236111998558044, 0.1658060947433114, 0.22632100768387317, 0.06718180272728205, -0.2940376983955503, 0.02107799667865038, 0.15854469751939176, -0.18819750398397445, 0.14579359591007232, 0.16012089550495148, 0.06698270067572594, -0.45445859991014004, 0.10258719995617867, -1.279961210489273, -0.3278732031583786, -0.15177509728819133, -0.3581631988286972, -0.2542893044650555, -0.10274429738055915, 0.012349402718245982, 0.32421659901738165, -0.33178690187633036, -0.03002659836784005, -0.07093959916383027, 0.1205341063439846, -0.11506560146808624, 0.15835559759289025, 0.17009229492396116, -0.053012899961322545, 0.14774150364100933, -0.4513315990567207, 0.04872590377926826, 0.3721495926380157, 0.4120045926421881, -0.017602199176326393, 0.1742600981146097, -0.11887000044807791, 0.05089800134301185, 0.14990119636058807, -0.4165915951132774, -0.2638727933168411, -0.020520000159740447, 0.025019801408052444, -0.25041930384468286, -0.4565651036798954, -0.44808490127325057, -0.3408923991024494, 0.05907649658620358, 0.02349140252918005, 0.27216689847409725, 0.18314880393445493, 0.3240995049476624, 0.2900083027780056, 0.1911723965778947, -0.010812298581004142, -0.038521197997033595, -0.3138436065986753, 0.02610000167042017, 0.05164979938417673, -0.29569759555161, 0.25358870103955267, -0.14493760149925947, -0.1766701988875866, 0.0839116059243679, 0.15611939653754234, 0.11164439804852008, 0.07579429820179939, -0.024522101413458584, -0.20684510171413423, -0.23903630971908568, 0.07365330439060927, 0.08452580198645591, -0.07388729937374591, -0.2571925981203094, -0.10908900126814843, 0.002805797755718231, 0.42795779928565025, -0.14014450944960116, -0.07609620066359639, -0.1693217061460018, -0.11108740027993917, -0.25211939588189125, 0.1684346042573452, -0.062447501625865695, -0.0006154010072350502, -0.26105200056917965, -0.08384179621934891, 0.00225580558180809, -0.14736479856073856, -0.19532840177416802, -0.12080109788221308, -0.02724510207772255, 0.23839659988880157, -0.1939537980593741, 0.17453719526529313, 0.11716249994933606, -0.20475559798069298, -0.09701899886131286, 0.02438989970833063, -0.036400507856160405, -0.3359061956871301, 0.41490640193223954, 0.25575950033962724, 0.32232930362224577, -0.2887080023530871, 0.08336250372231006, 0.05739699881523848, -0.19381679967045784, 0.14123009704053402, -0.3753071025013924, 0.3837768975645304, 0.13860730100423097, -0.14143370054662227, -0.3153982998803258, 0.10321400240063668, -0.06814749902114273, 0.0307725019287318, -0.18706589806824922, -0.10252520135836676, -0.03004060238599777, 0.11855250149965287, -0.44523780420422554, 0.3115510053932667, 0.07758049801923335, -0.30252320095896723, -0.14987890087068081, 0.15126690194010733, 0.2432568944990635, -0.10791069604456424, 0.26507650054991244, -0.11954280287027359, 0.11273640096187591, 0.04954199902713299, -0.2214867936447263, -0.2521692991256714, -0.25938769429922104, 0.026531900092959405, -0.0731798985041678, -0.07385169938206673, 0.01952519700862467, 0.1704581007361412, -0.006717502977699042, -0.029334705136716367, -0.16542110294103624, 0.061453905701637265, -0.2747416034340858, -0.09617329984903336, 0.021412901021540164, 0.06023709997534752, -0.18203729763627052, -0.1791688958182931, -0.14223109390586613, 0.13097400208935142, 0.37073829881846904, -0.06875530006363988, -0.13547600246965885, 0.06512180203571916, -0.1143913958221674, -0.2577824039384723, 0.007425097376108169, -0.13596510365605355, 0.1352905978448689, 0.08885310143232346, -0.06850079828873276, 0.017437801510095597, -0.5400954028591514, -0.03696190044283867, -0.06739529799669981, -0.05562760382890701, 0.19700369806960225, 0.15158229544758797, 0.4028771936893463, 0.3093852035701275, -0.09282460045069456, -0.03306049648672342, 0.1291118029737845, -0.29448069632053375, -0.13199760019779205, -0.7244409937644377, -0.24965669214725494, 0.16959880143404008, 0.07804550109431148, 0.09378169951960444, -0.17652370035648346, 0.20096319932490586, 0.04242949672043324, -0.07942120172083378, -0.25491720661520956, 0.4398680912330747, -0.5690566077828407, -0.14116760063916445, 0.2134849015623331, -0.1998186007142067, -0.45525120021775367, 0.4419479127973318, 0.12984329871833325, -0.32490010038018224, 0.09926450103521348, 0.07225849777460099, 0.032934202998876574, -0.02162909656763077, -0.5662460073828697, 0.2348209023475647, -0.10803640016820282, 0.19035680405795574, -0.18078289963304997, -0.2464787993580103, -0.0343830056488514, 0.09290179871022701, 0.15141189694404603, 0.3475857928395271, 0.0018940013367682695, 0.031527900323271754, 0.08240329613909125, -0.3538042031228542, -0.15313139632344247, -0.0663871956989169, -0.13708279207348822, -0.15458859652280807, 0.002806098200380802, -0.008351899683475494]\n",
      "{'matches': [{'id': 'NCT02827565', 'score': 0.842553079, 'values': []},\n",
      "             {'id': 'NCT01925274', 'score': 0.838654339, 'values': []},\n",
      "             {'id': 'NCT01719380', 'score': 0.836372435, 'values': []},\n",
      "             {'id': 'NCT02039336', 'score': 0.83605814, 'values': []},\n",
      "             {'id': 'NCT01243372', 'score': 0.832987905, 'values': []},\n",
      "             {'id': 'NCT01417442', 'score': 0.830019772, 'values': []},\n",
      "             {'id': 'NCT01086267', 'score': 0.826377273, 'values': []},\n",
      "             {'id': 'NCT01152437', 'score': 0.824830592, 'values': []},\n",
      "             {'id': 'NCT02109653', 'score': 0.823027909, 'values': []},\n",
      "             {'id': 'NCT02663232', 'score': 0.823025167, 'values': []}],\n",
      " 'namespace': 'clinicaltrails',\n",
      " 'usage': {'read_units': 5}}\n"
     ]
    }
   ]
  },
  {
   "cell_type": "markdown",
   "source": [
    "# Evaluation"
   ],
   "metadata": {
    "id": "aOsCpK912RyQ"
   }
  },
  {
   "cell_type": "code",
   "source": [
    "# prompt: read cleaned_queries from my drive\n",
    "\n",
    "import csv\n",
    "\n",
    "queries = []\n",
    "\n",
    "# Read the queries from the CSV file\n",
    "with open('/content/drive/MyDrive/IR/evaluation/cleaned_queries.csv', 'r') as csvfile:\n",
    "    reader = csv.reader(csvfile)\n",
    "    next(reader)  # Skip the header row\n",
    "    for row in reader:\n",
    "        query_id, query = row\n",
    "        queries.append((query_id, query))\n",
    "\n",
    "print(queries[0])"
   ],
   "metadata": {
    "colab": {
     "base_uri": "https://localhost:8080/"
    },
    "id": "trFEa09K2VEF",
    "executionInfo": {
     "status": "ok",
     "timestamp": 1717372806960,
     "user_tz": -180,
     "elapsed": 354,
     "user": {
      "displayName": "Yousef Daaboul",
      "userId": "02100590939386773931"
     }
    },
    "outputId": "1fdaae18-7503-46e0-ab7f-eb0ce0807a79"
   },
   "execution_count": 15,
   "outputs": [
    {
     "output_type": "stream",
     "name": "stdout",
     "text": [
      "('1', 'liposarcoma cdk4 amplification 38yearold male gerd')\n"
     ]
    }
   ]
  },
  {
   "cell_type": "code",
   "source": [
    "def find_similar_documents(query, top_n=10):\n",
    "    query_vector = query_to_vector(query, glove_embeddings).tolist()\n",
    "    results = index.query(vector=query_vector, top_k=top_n, namespace='clinicaltrails')\n",
    "    return results['matches']"
   ],
   "metadata": {
    "id": "yoDcTxFo_iQ2",
    "executionInfo": {
     "status": "ok",
     "timestamp": 1717372813998,
     "user_tz": -180,
     "elapsed": 311,
     "user": {
      "displayName": "Yousef Daaboul",
      "userId": "02100590939386773931"
     }
    }
   },
   "execution_count": 16,
   "outputs": []
  },
  {
   "cell_type": "code",
   "source": [
    "results = {}\n",
    "\n",
    "for query_id, query in queries:\n",
    "    if int(query_id) == 10:\n",
    "        continue\n",
    "    similar_docs = find_similar_documents(query, top_n=10)\n",
    "    doc_ids = [doc['id'] for doc in similar_docs]\n",
    "    results[int(query_id)] = doc_ids\n",
    "\n",
    "print(results)\n",
    "print(len(results))"
   ],
   "metadata": {
    "colab": {
     "base_uri": "https://localhost:8080/"
    },
    "id": "nuObQYVs2T_S",
    "executionInfo": {
     "status": "ok",
     "timestamp": 1717372818188,
     "user_tz": -180,
     "elapsed": 1807,
     "user": {
      "displayName": "Yousef Daaboul",
      "userId": "02100590939386773931"
     }
    },
    "outputId": "254347f5-f40d-4d93-efa6-92129b66e9af"
   },
   "execution_count": 17,
   "outputs": [
    {
     "output_type": "stream",
     "name": "stdout",
     "text": [
      "{1: ['NCT01121588', 'NCT00410592', 'NCT00561730', 'NCT02187783', 'NCT02137343', 'NCT01697072', 'NCT01774851', 'NCT02731313', 'NCT00688675', 'NCT01220934'], 2: ['NCT02827565', 'NCT01925274', 'NCT01719380', 'NCT02039336', 'NCT01243372', 'NCT01417442', 'NCT01086267', 'NCT01152437', 'NCT02109653', 'NCT02663232'], 3: ['NCT00255671', 'NCT02684058', 'NCT00967200', 'NCT02494622', 'NCT00004483', 'NCT00499798', 'NCT00002647', 'NCT02974127', 'NCT00322790', 'NCT01626846'], 4: ['NCT02440620', 'NCT02214004', 'NCT00897208', 'NCT00958971', 'NCT00133796', 'NCT02924584', 'NCT02302742', 'NCT00582322', 'NCT02202746', 'NCT01251900'], 5: ['NCT02663232', 'NCT01400451', 'NCT02827565', 'NCT01417442', 'NCT01543113', 'NCT00936221', 'NCT01744860', 'NCT02967692', 'NCT01775943', 'NCT02501551'], 6: ['NCT01320085', 'NCT02663232', 'NCT02967692', 'NCT02027961', 'NCT01682083', 'NCT00235482', 'NCT00936221', 'NCT01597908', 'NCT01245556', 'NCT01721772'], 7: ['NCT02961270', 'NCT01775943', 'NCT01774721', 'NCT01106781', 'NCT01776684', 'NCT00997230', 'NCT01153399', 'NCT01081496', 'NCT02695849', 'NCT02737774'], 8: ['NCT02274025', 'NCT02010047', 'NCT01510405', 'NCT01257308', 'NCT02695849', 'NCT01255150', 'NCT02228421', 'NCT00897234', 'NCT02502240', 'NCT01185314'], 9: ['NCT02931981', 'NCT00564265', 'NCT02776878', 'NCT01396148', 'NCT00640692', 'NCT02508532', 'NCT00764595', 'NCT01316263', 'NCT01506336', 'NCT02461849'], 11: ['NCT01659632', 'NCT01664494', 'NCT01661049', 'NCT01416714', 'NCT01048281', 'NCT00120939', 'NCT01346579', 'NCT02886845', 'NCT01678027', 'NCT01333748'], 12: ['NCT02827565', 'NCT02663232', 'NCT00537901', 'NCT01243372', 'NCT01417442', 'NCT01719380', 'NCT01925274', 'NCT01664494', 'NCT02861430', 'NCT00856375'], 13: ['NCT00590109', 'NCT02317120', 'NCT00595348', 'NCT02478892', 'NCT01333748', 'NCT02634229', 'NCT00309751', 'NCT01276743', 'NCT00811044', 'NCT00824395'], 14: ['NCT03081039', 'NCT00753675', 'NCT01149122', 'NCT02381886', 'NCT00998933', 'NCT00041795', 'NCT02539329', 'NCT01514864', 'NCT02150967', 'NCT01526564'], 15: ['NCT00092521', 'NCT02323997', 'NCT01221987', 'NCT02605941', 'NCT02869490', 'NCT01505751', 'NCT02576158', 'NCT01385436', 'NCT01328028', 'NCT01207999'], 16: ['NCT02001337', 'NCT02700555', 'NCT01102556', 'NCT02886247', 'NCT00714701', 'NCT02310555', 'NCT02775461', 'NCT00309751', 'NCT01994681', 'NCT03001505'], 17: ['NCT01302041', 'NCT00035217', 'NCT00635856', 'NCT00323180', 'NCT02154672', 'NCT00001377', 'NCT00375765', 'NCT00957606', 'NCT00002924', 'NCT00055471'], 18: ['NCT01416714', 'NCT01664494', 'NCT00974610', 'NCT00120939', 'NCT01775514', 'NCT00274885', 'NCT00900094', 'NCT01661049', 'NCT00898781', 'NCT01103128'], 19: ['NCT01664494', 'NCT00874146', 'NCT02827565', 'NCT02954471', 'NCT00740532', 'NCT02302742', 'NCT01416714', 'NCT01346579', 'NCT02924584', 'NCT00537901'], 20: ['NCT00474760', 'NCT01121588', 'NCT02663232', 'NCT00541411', 'NCT03034252', 'NCT03066661', 'NCT00626704', 'NCT01337765', 'NCT02657005', 'NCT02827565'], 21: ['NCT01106781', 'NCT01081496', 'NCT02228421', 'NCT01185314', 'NCT00997230', 'NCT01121588', 'NCT01620853', 'NCT01153399', 'NCT02961270', 'NCT02695849'], 22: ['NCT00874146', 'NCT01193959', 'NCT02010047', 'NCT00740532', 'NCT00386685', 'NCT00997230', 'NCT01106781', 'NCT02954471', 'NCT02827357', 'NCT01153399'], 23: ['NCT02440620', 'NCT01919229', 'NCT01977404', 'NCT01434134', 'NCT00201864', 'NCT02772367', 'NCT00041431', 'NCT02615054', 'NCT01907529', 'NCT02154776'], 24: ['NCT01255059', 'NCT00681512', 'NCT00188734', 'NCT01700257', 'NCT02431962', 'NCT02700555', 'NCT02385812', 'NCT02519972', 'NCT00067691', 'NCT02603627'], 25: ['NCT02511288', 'NCT02404675', 'NCT02582125', 'NCT01106781', 'NCT01153399', 'NCT02839629', 'NCT02175017', 'NCT00430261', 'NCT01081496', 'NCT00997230'], 26: ['NCT01346579', 'NCT00918892', 'NCT00874146', 'NCT00898976', 'NCT02924584', 'NCT02302742', 'NCT02954471', 'NCT00740532', 'NCT00726180', 'NCT00535509'], 27: ['NCT01103128', 'NCT02827565', 'NCT01100827', 'NCT01925274', 'NCT00997230', 'NCT00947102', 'NCT01106781', 'NCT00956280', 'NCT00537901', 'NCT01081496'], 28: ['NCT02869581', 'NCT00947102', 'NCT01942629', 'NCT01103128', 'NCT00243854', 'NCT02451384', 'NCT01834170', 'NCT00922896', 'NCT01021800', 'NCT02717091'], 29: ['NCT00127595', 'NCT01925274', 'NCT01149122', 'NCT00273312', 'NCT02827565', 'NCT01351038', 'NCT01307878', 'NCT01861197', 'NCT01182142', 'NCT01134640'], 30: ['NCT01103128', 'NCT02827565', 'NCT01100827', 'NCT00997230', 'NCT01106781', 'NCT00956280', 'NCT01081496', 'NCT01925274', 'NCT01588860', 'NCT00947102']}\n",
      "29\n"
     ]
    }
   ]
  },
  {
   "cell_type": "code",
   "source": [
    "import pickle\n",
    "\n",
    "with open('/content/drive/MyDrive/IR/evaluation/clinical_trials_qrels.pickle', 'rb') as f:\n",
    "  qrels = pickle.load(f)\n",
    "\n",
    "print(qrels.get(1,[]))\n",
    "print(len(qrels))"
   ],
   "metadata": {
    "colab": {
     "base_uri": "https://localhost:8080/"
    },
    "id": "gL30JKvPIWAI",
    "executionInfo": {
     "status": "ok",
     "timestamp": 1717372835104,
     "user_tz": -180,
     "elapsed": 333,
     "user": {
      "displayName": "Yousef Daaboul",
      "userId": "02100590939386773931"
     }
    },
    "outputId": "ba41fa5a-c397-4d2e-9283-eb280c2268f3"
   },
   "execution_count": 18,
   "outputs": [
    {
     "output_type": "stream",
     "name": "stdout",
     "text": [
      "[{'doc_id': 'NCT00445783', 'rel': 1}, {'doc_id': 'NCT01209598', 'rel': 2}, {'doc_id': 'NCT01237236', 'rel': 1}, {'doc_id': 'NCT01522989', 'rel': 1}, {'doc_id': 'NCT01692496', 'rel': 2}, {'doc_id': 'NCT02022982', 'rel': 1}, {'doc_id': 'NCT02065063', 'rel': 1}, {'doc_id': 'NCT02187783', 'rel': 1}, {'doc_id': 'NCT02414724', 'rel': 1}, {'doc_id': 'NCT02418234', 'rel': 1}, {'doc_id': 'NCT02571829', 'rel': 2}, {'doc_id': 'NCT02693535', 'rel': 1}, {'doc_id': 'NCT02846987', 'rel': 2}, {'doc_id': 'NCT02897375', 'rel': 1}, {'doc_id': 'NCT02919696', 'rel': 1}, {'doc_id': 'NCT03065062', 'rel': 1}, {'doc_id': 'NCT03096912', 'rel': 2}]\n",
      "29\n"
     ]
    }
   ]
  },
  {
   "cell_type": "markdown",
   "source": [
    "## Presision@K\n"
   ],
   "metadata": {
    "id": "Du5wRkFXivvi"
   }
  },
  {
   "cell_type": "code",
   "source": [
    "import numpy as np\n",
    "\n",
    "def calculate_relevant_count(retrieved_docs: list, query_docs: list) -> int:\n",
    "    \"\"\"\n",
    "    Find the number of intersected documents between `retrieved_docs` and `query_docs`\n",
    "\n",
    "    Args:\n",
    "        retrieved_docs: Al list of doc_id that returned from matching\n",
    "        query_docs: A list of doc_id belonging to a qid from qrel file\n",
    "\n",
    "    Returns:\n",
    "        Number of shared results\n",
    "    \"\"\"\n",
    "    intersect_values = np.intersect1d(retrieved_docs, query_docs)\n",
    "    matched_count = len(intersect_values)\n",
    "    return matched_count\n",
    "\n",
    "\n",
    "def precision_at_k(relevant_docs, retrieved_docs, k=10) -> float | int:\n",
    "    \"\"\"\n",
    "    Calculates Precision@k\n",
    "\n",
    "    Args:\n",
    "        relevant_docs: A dictionary mapping query IDs to a list of relevant document IDs.\n",
    "        retrieved_docs: A dictionary mapping query IDs to a list of retrieved document IDs, ranked by relevance.\n",
    "        k: The number of top retrieved documents to consider (default 10).\n",
    "\n",
    "    Returns:\n",
    "        The Precision value.\n",
    "    \"\"\"\n",
    "\n",
    "    retrieved = retrieved_docs[:k]\n",
    "    num_retrieved = len(retrieved)\n",
    "    num_retrieved_relevant = calculate_relevant_count(retrieved, relevant_docs)\n",
    "    return num_retrieved_relevant / num_retrieved if num_retrieved > 0 else 0\n",
    "\n",
    "\n",
    "\n"
   ],
   "metadata": {
    "id": "pg1MrOgtigQp",
    "executionInfo": {
     "status": "ok",
     "timestamp": 1717372851199,
     "user_tz": -180,
     "elapsed": 328,
     "user": {
      "displayName": "Yousef Daaboul",
      "userId": "02100590939386773931"
     }
    }
   },
   "execution_count": 19,
   "outputs": []
  },
  {
   "cell_type": "markdown",
   "source": [
    "## Average precision\n"
   ],
   "metadata": {
    "id": "6wHYyUVpjNpk"
   }
  },
  {
   "cell_type": "code",
   "source": [
    "def get_rel_from_list(list_of_rel, doc_id) -> int:\n",
    "    \"\"\"Get the rel for a given doc_id from a list of {'doc_id': 'NCT00445783', 'rel': 1}, ...\"\"\"\n",
    "\n",
    "    for rel in list_of_rel:\n",
    "        if rel['doc_id'] == doc_id:\n",
    "            return rel['rel']\n",
    "\n",
    "    return 0\n",
    "\n",
    "\n",
    "\n",
    "\n",
    "def average_precision(retrieved: list, relevant: list):\n",
    "    p_sum = 0\n",
    "    num_of_relevant = 0\n",
    "    for i in range(10):\n",
    "        k = i + 1\n",
    "\n",
    "        # get the doc_id's for the current\n",
    "        relevant_docs = [doc['doc_id'] for doc in relevant]\n",
    "\n",
    "        p_at_k = precision_at_k(relevant_docs, retrieved, k)\n",
    "        print(f'P@{k} : {p_at_k}')\n",
    "        # get the k document id\n",
    "        k_doc_id = retrieved[:k][-1]\n",
    "\n",
    "        # get the rel(k)\n",
    "        rel_at_k = get_rel_from_list(relevant, k_doc_id)\n",
    "\n",
    "        if rel_at_k > 0:\n",
    "            num_of_relevant += rel_at_k\n",
    "        p_sum += p_at_k * rel_at_k\n",
    "\n",
    "    return p_sum / num_of_relevant if num_of_relevant > 0 else 0\n"
   ],
   "metadata": {
    "id": "1IBHAPuojPyq",
    "executionInfo": {
     "status": "ok",
     "timestamp": 1717372855535,
     "user_tz": -180,
     "elapsed": 320,
     "user": {
      "displayName": "Yousef Daaboul",
      "userId": "02100590939386773931"
     }
    }
   },
   "execution_count": 20,
   "outputs": []
  },
  {
   "cell_type": "markdown",
   "source": [
    "# MAP\n"
   ],
   "metadata": {
    "id": "3x_Dhu3QjTVd"
   }
  },
  {
   "cell_type": "code",
   "source": [
    "def mean_average_precision(queries: dict, qrels: dict) -> float | int:\n",
    "    ap_sum = 0\n",
    "    for qid, query_results in queries.items():\n",
    "        if qid == 10:\n",
    "            continue\n",
    "        print(f'query number {qid} : ')\n",
    "        val = average_precision(queries[qid], qrels[qid])\n",
    "        print(f'******* Average Precision : {val}')\n",
    "        ap_sum += val\n",
    "        print('-------------------------------------')\n",
    "    return ap_sum / len(queries)\n",
    "\n",
    "mean_average_precision(results, qrels)"
   ],
   "metadata": {
    "colab": {
     "base_uri": "https://localhost:8080/"
    },
    "id": "tfiuxV4BjVBX",
    "executionInfo": {
     "status": "ok",
     "timestamp": 1717372859434,
     "user_tz": -180,
     "elapsed": 568,
     "user": {
      "displayName": "Yousef Daaboul",
      "userId": "02100590939386773931"
     }
    },
    "outputId": "da4dae78-2fa2-465d-fbf3-8dbaa224f2fc"
   },
   "execution_count": 21,
   "outputs": [
    {
     "output_type": "stream",
     "name": "stdout",
     "text": [
      "query number 1 : \n",
      "P@1 : 0.0\n",
      "P@2 : 0.0\n",
      "P@3 : 0.0\n",
      "P@4 : 0.25\n",
      "P@5 : 0.2\n",
      "P@6 : 0.16666666666666666\n",
      "P@7 : 0.14285714285714285\n",
      "P@8 : 0.125\n",
      "P@9 : 0.1111111111111111\n",
      "P@10 : 0.1\n",
      "******* Average Precision : 0.25\n",
      "-------------------------------------\n",
      "query number 2 : \n",
      "P@1 : 1.0\n",
      "P@2 : 1.0\n",
      "P@3 : 0.6666666666666666\n",
      "P@4 : 0.5\n",
      "P@5 : 0.6\n",
      "P@6 : 0.5\n",
      "P@7 : 0.5714285714285714\n",
      "P@8 : 0.625\n",
      "P@9 : 0.5555555555555556\n",
      "P@10 : 0.5\n",
      "******* Average Precision : 0.7096938775510205\n",
      "-------------------------------------\n",
      "query number 3 : \n",
      "P@1 : 0.0\n",
      "P@2 : 0.0\n",
      "P@3 : 0.0\n",
      "P@4 : 0.0\n",
      "P@5 : 0.2\n",
      "P@6 : 0.16666666666666666\n",
      "P@7 : 0.14285714285714285\n",
      "P@8 : 0.125\n",
      "P@9 : 0.1111111111111111\n",
      "P@10 : 0.1\n",
      "******* Average Precision : 0.2\n",
      "-------------------------------------\n",
      "query number 4 : \n",
      "P@1 : 0.0\n",
      "P@2 : 0.0\n",
      "P@3 : 0.0\n",
      "P@4 : 0.0\n",
      "P@5 : 0.0\n",
      "P@6 : 0.0\n",
      "P@7 : 0.14285714285714285\n",
      "P@8 : 0.125\n",
      "P@9 : 0.2222222222222222\n",
      "P@10 : 0.2\n",
      "******* Average Precision : 0.19576719576719573\n",
      "-------------------------------------\n",
      "query number 5 : \n",
      "P@1 : 1.0\n",
      "P@2 : 0.5\n",
      "P@3 : 0.3333333333333333\n",
      "P@4 : 0.25\n",
      "P@5 : 0.2\n",
      "P@6 : 0.16666666666666666\n",
      "P@7 : 0.2857142857142857\n",
      "P@8 : 0.25\n",
      "P@9 : 0.2222222222222222\n",
      "P@10 : 0.2\n",
      "******* Average Precision : 0.6428571428571428\n",
      "-------------------------------------\n",
      "query number 6 : \n",
      "P@1 : 1.0\n",
      "P@2 : 0.5\n",
      "P@3 : 0.3333333333333333\n",
      "P@4 : 0.25\n",
      "P@5 : 0.2\n",
      "P@6 : 0.16666666666666666\n",
      "P@7 : 0.14285714285714285\n",
      "P@8 : 0.125\n",
      "P@9 : 0.1111111111111111\n",
      "P@10 : 0.1\n",
      "******* Average Precision : 1.0\n",
      "-------------------------------------\n",
      "query number 7 : \n",
      "P@1 : 0.0\n",
      "P@2 : 0.5\n",
      "P@3 : 0.6666666666666666\n",
      "P@4 : 0.5\n",
      "P@5 : 0.4\n",
      "P@6 : 0.3333333333333333\n",
      "P@7 : 0.42857142857142855\n",
      "P@8 : 0.375\n",
      "P@9 : 0.3333333333333333\n",
      "P@10 : 0.4\n",
      "******* Average Precision : 0.5269841269841269\n",
      "-------------------------------------\n",
      "query number 8 : \n",
      "P@1 : 0.0\n",
      "P@2 : 0.5\n",
      "P@3 : 0.3333333333333333\n",
      "P@4 : 0.25\n",
      "P@5 : 0.2\n",
      "P@6 : 0.16666666666666666\n",
      "P@7 : 0.14285714285714285\n",
      "P@8 : 0.125\n",
      "P@9 : 0.1111111111111111\n",
      "P@10 : 0.1\n",
      "******* Average Precision : 0.5\n",
      "-------------------------------------\n",
      "query number 9 : \n",
      "P@1 : 0.0\n",
      "P@2 : 0.0\n",
      "P@3 : 0.3333333333333333\n",
      "P@4 : 0.25\n",
      "P@5 : 0.4\n",
      "P@6 : 0.5\n",
      "P@7 : 0.42857142857142855\n",
      "P@8 : 0.5\n",
      "P@9 : 0.5555555555555556\n",
      "P@10 : 0.6\n",
      "******* Average Precision : 0.48148148148148145\n",
      "-------------------------------------\n",
      "query number 11 : \n",
      "P@1 : 0.0\n",
      "P@2 : 0.0\n",
      "P@3 : 0.0\n",
      "P@4 : 0.0\n",
      "P@5 : 0.0\n",
      "P@6 : 0.0\n",
      "P@7 : 0.0\n",
      "P@8 : 0.0\n",
      "P@9 : 0.0\n",
      "P@10 : 0.0\n",
      "******* Average Precision : 0\n",
      "-------------------------------------\n",
      "query number 12 : \n",
      "P@1 : 1.0\n",
      "P@2 : 0.5\n",
      "P@3 : 0.3333333333333333\n",
      "P@4 : 0.25\n",
      "P@5 : 0.2\n",
      "P@6 : 0.3333333333333333\n",
      "P@7 : 0.2857142857142857\n",
      "P@8 : 0.25\n",
      "P@9 : 0.2222222222222222\n",
      "P@10 : 0.2\n",
      "******* Average Precision : 0.6666666666666666\n",
      "-------------------------------------\n",
      "query number 13 : \n",
      "P@1 : 0.0\n",
      "P@2 : 0.0\n",
      "P@3 : 0.0\n",
      "P@4 : 0.0\n",
      "P@5 : 0.0\n",
      "P@6 : 0.0\n",
      "P@7 : 0.0\n",
      "P@8 : 0.0\n",
      "P@9 : 0.0\n",
      "P@10 : 0.0\n",
      "******* Average Precision : 0\n",
      "-------------------------------------\n",
      "query number 14 : \n",
      "P@1 : 0.0\n",
      "P@2 : 0.0\n",
      "P@3 : 0.0\n",
      "P@4 : 0.0\n",
      "P@5 : 0.0\n",
      "P@6 : 0.0\n",
      "P@7 : 0.0\n",
      "P@8 : 0.0\n",
      "P@9 : 0.0\n",
      "P@10 : 0.0\n",
      "******* Average Precision : 0\n",
      "-------------------------------------\n",
      "query number 15 : \n",
      "P@1 : 0.0\n",
      "P@2 : 0.0\n",
      "P@3 : 0.0\n",
      "P@4 : 0.0\n",
      "P@5 : 0.0\n",
      "P@6 : 0.0\n",
      "P@7 : 0.0\n",
      "P@8 : 0.0\n",
      "P@9 : 0.0\n",
      "P@10 : 0.0\n",
      "******* Average Precision : 0\n",
      "-------------------------------------\n",
      "query number 16 : \n",
      "P@1 : 0.0\n",
      "P@2 : 0.0\n",
      "P@3 : 0.0\n",
      "P@4 : 0.0\n",
      "P@5 : 0.0\n",
      "P@6 : 0.0\n",
      "P@7 : 0.0\n",
      "P@8 : 0.0\n",
      "P@9 : 0.0\n",
      "P@10 : 0.0\n",
      "******* Average Precision : 0\n",
      "-------------------------------------\n",
      "query number 17 : \n",
      "P@1 : 0.0\n",
      "P@2 : 0.0\n",
      "P@3 : 0.0\n",
      "P@4 : 0.0\n",
      "P@5 : 0.0\n",
      "P@6 : 0.0\n",
      "P@7 : 0.0\n",
      "P@8 : 0.0\n",
      "P@9 : 0.0\n",
      "P@10 : 0.0\n",
      "******* Average Precision : 0\n",
      "-------------------------------------\n",
      "query number 18 : \n",
      "P@1 : 0.0\n",
      "P@2 : 0.0\n",
      "P@3 : 0.0\n",
      "P@4 : 0.0\n",
      "P@5 : 0.0\n",
      "P@6 : 0.0\n",
      "P@7 : 0.0\n",
      "P@8 : 0.0\n",
      "P@9 : 0.0\n",
      "P@10 : 0.0\n",
      "******* Average Precision : 0\n",
      "-------------------------------------\n",
      "query number 19 : \n",
      "P@1 : 0.0\n",
      "P@2 : 0.0\n",
      "P@3 : 0.0\n",
      "P@4 : 0.0\n",
      "P@5 : 0.0\n",
      "P@6 : 0.0\n",
      "P@7 : 0.0\n",
      "P@8 : 0.0\n",
      "P@9 : 0.0\n",
      "P@10 : 0.0\n",
      "******* Average Precision : 0\n",
      "-------------------------------------\n",
      "query number 20 : \n",
      "P@1 : 0.0\n",
      "P@2 : 0.0\n",
      "P@3 : 0.0\n",
      "P@4 : 0.0\n",
      "P@5 : 0.0\n",
      "P@6 : 0.0\n",
      "P@7 : 0.0\n",
      "P@8 : 0.0\n",
      "P@9 : 0.0\n",
      "P@10 : 0.0\n",
      "******* Average Precision : 0\n",
      "-------------------------------------\n",
      "query number 21 : \n",
      "P@1 : 0.0\n",
      "P@2 : 0.0\n",
      "P@3 : 0.0\n",
      "P@4 : 0.0\n",
      "P@5 : 0.0\n",
      "P@6 : 0.16666666666666666\n",
      "P@7 : 0.14285714285714285\n",
      "P@8 : 0.125\n",
      "P@9 : 0.1111111111111111\n",
      "P@10 : 0.1\n",
      "******* Average Precision : 0.16666666666666666\n",
      "-------------------------------------\n",
      "query number 22 : \n",
      "P@1 : 0.0\n",
      "P@2 : 0.0\n",
      "P@3 : 0.0\n",
      "P@4 : 0.0\n",
      "P@5 : 0.0\n",
      "P@6 : 0.0\n",
      "P@7 : 0.0\n",
      "P@8 : 0.0\n",
      "P@9 : 0.1111111111111111\n",
      "P@10 : 0.1\n",
      "******* Average Precision : 0.1111111111111111\n",
      "-------------------------------------\n",
      "query number 23 : \n",
      "P@1 : 0.0\n",
      "P@2 : 0.0\n",
      "P@3 : 0.0\n",
      "P@4 : 0.0\n",
      "P@5 : 0.0\n",
      "P@6 : 0.0\n",
      "P@7 : 0.0\n",
      "P@8 : 0.0\n",
      "P@9 : 0.0\n",
      "P@10 : 0.0\n",
      "******* Average Precision : 0\n",
      "-------------------------------------\n",
      "query number 24 : \n",
      "P@1 : 0.0\n",
      "P@2 : 0.0\n",
      "P@3 : 0.0\n",
      "P@4 : 0.0\n",
      "P@5 : 0.0\n",
      "P@6 : 0.0\n",
      "P@7 : 0.0\n",
      "P@8 : 0.0\n",
      "P@9 : 0.0\n",
      "P@10 : 0.0\n",
      "******* Average Precision : 0\n",
      "-------------------------------------\n",
      "query number 25 : \n",
      "P@1 : 0.0\n",
      "P@2 : 0.0\n",
      "P@3 : 0.0\n",
      "P@4 : 0.0\n",
      "P@5 : 0.0\n",
      "P@6 : 0.0\n",
      "P@7 : 0.0\n",
      "P@8 : 0.0\n",
      "P@9 : 0.0\n",
      "P@10 : 0.0\n",
      "******* Average Precision : 0\n",
      "-------------------------------------\n",
      "query number 26 : \n",
      "P@1 : 0.0\n",
      "P@2 : 0.0\n",
      "P@3 : 0.0\n",
      "P@4 : 0.0\n",
      "P@5 : 0.0\n",
      "P@6 : 0.0\n",
      "P@7 : 0.0\n",
      "P@8 : 0.0\n",
      "P@9 : 0.0\n",
      "P@10 : 0.0\n",
      "******* Average Precision : 0\n",
      "-------------------------------------\n",
      "query number 27 : \n",
      "P@1 : 0.0\n",
      "P@2 : 0.0\n",
      "P@3 : 0.0\n",
      "P@4 : 0.0\n",
      "P@5 : 0.0\n",
      "P@6 : 0.0\n",
      "P@7 : 0.0\n",
      "P@8 : 0.0\n",
      "P@9 : 0.0\n",
      "P@10 : 0.0\n",
      "******* Average Precision : 0\n",
      "-------------------------------------\n",
      "query number 28 : \n",
      "P@1 : 0.0\n",
      "P@2 : 0.0\n",
      "P@3 : 0.0\n",
      "P@4 : 0.0\n",
      "P@5 : 0.0\n",
      "P@6 : 0.0\n",
      "P@7 : 0.0\n",
      "P@8 : 0.0\n",
      "P@9 : 0.0\n",
      "P@10 : 0.0\n",
      "******* Average Precision : 0\n",
      "-------------------------------------\n",
      "query number 29 : \n",
      "P@1 : 0.0\n",
      "P@2 : 0.0\n",
      "P@3 : 0.0\n",
      "P@4 : 0.0\n",
      "P@5 : 0.0\n",
      "P@6 : 0.0\n",
      "P@7 : 0.0\n",
      "P@8 : 0.0\n",
      "P@9 : 0.0\n",
      "P@10 : 0.0\n",
      "******* Average Precision : 0\n",
      "-------------------------------------\n",
      "query number 30 : \n",
      "P@1 : 1.0\n",
      "P@2 : 0.5\n",
      "P@3 : 0.3333333333333333\n",
      "P@4 : 0.25\n",
      "P@5 : 0.2\n",
      "P@6 : 0.16666666666666666\n",
      "P@7 : 0.14285714285714285\n",
      "P@8 : 0.125\n",
      "P@9 : 0.1111111111111111\n",
      "P@10 : 0.1\n",
      "******* Average Precision : 1.0\n",
      "-------------------------------------\n"
     ]
    },
    {
     "output_type": "execute_result",
     "data": {
      "text/plain": [
       "0.22245614720984183"
      ]
     },
     "metadata": {},
     "execution_count": 21
    }
   ]
  }
 ]
}
